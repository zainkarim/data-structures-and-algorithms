{
 "cells": [
  {
   "cell_type": "code",
   "execution_count": 40,
   "metadata": {},
   "outputs": [],
   "source": [
    "class City:\n",
    "    # Create city\n",
    "    def __init__(self, code, name, region, pop, lat, lon):\n",
    "        self.code = code\n",
    "        self.name = name\n",
    "        self.region = region\n",
    "        self.pop = pop\n",
    "        self.lat = lat\n",
    "        self.lon = lon\n",
    "    def __str__(self):\n",
    "        return self.name + \",\" + str(self.pop) + \",\" + str(self.lat) + \",\" + str(self.lon)\n",
    "    def get_name(self):\n",
    "        return self.name\n",
    "    def get_population(self):\n",
    "        return self.pop\n",
    "    def get_latitude(self):\n",
    "        return self.lat\n",
    "    def get_longitude(self):\n",
    "        return self.lon"
   ]
  },
  {
   "cell_type": "code",
   "execution_count": 20,
   "metadata": {},
   "outputs": [
    {
     "name": "stdout",
     "output_type": "stream",
     "text": [
      "Poop,12345,678,90\n",
      "678\n",
      "90\n",
      "12345\n"
     ]
    }
   ],
   "source": [
    "# Test code\n",
    "city = City(123, \"Poop\", \"Pee\", 12345, 678, 90)\n",
    "\n",
    "print(city)\n",
    "print(city.get_latitude())\n",
    "print(city.get_longitude())\n",
    "print(city.get_population())"
   ]
  },
  {
   "cell_type": "code",
   "execution_count": 41,
   "metadata": {},
   "outputs": [],
   "source": [
    "# read file\n",
    "in_file = open('world_cities.txt', 'r')\n",
    "\n",
    "# create empty list\n",
    "cities_list = []\n",
    "for line in in_file:\n",
    "    data = line.split(\",\")\n",
    "    code, name, region, pop, lat, lon = data\n",
    "    pop = str(pop)\n",
    "    lat = str(lat)\n",
    "    lon = str(lon)\n",
    "    city = City(code, name, region, pop, lat, lon)\n",
    "    cities_list.append(city) # append object to list"
   ]
  },
  {
   "cell_type": "code",
   "execution_count": 42,
   "metadata": {},
   "outputs": [],
   "source": [
    "# Performs the quicksort algorithm.\n",
    "\n",
    "# Partition the sublist the_list[p ... r] so that the pivot\n",
    "# (originally in the_list[r]) moves to the_list[q],\n",
    "# all items in the_list[p ... q-1] are less than or equal to the pivot,\n",
    "# and all items in the_list[q+1 ... r] are greater than the pivot.\n",
    "# Return the index q where the pivot ends up.\n",
    "def partition(the_list, p, r, compare_func):\n",
    "    pivot = the_list[r]\n",
    "    \n",
    "    # Set up the indices i and j so that\n",
    "    #    the_list[p ... i] contains items <= pivot,\n",
    "    #    the_list[i+1 ... j-1] contains items > pivot, and\n",
    "    #    the_list[j ... r-1] contains items not yet compared with the pivot.\n",
    "    i = p - 1\n",
    "    j = p\n",
    "    while j < r:\n",
    "        if compare_func(the_list[j], pivot):\n",
    "            # Move this item into the section known to be <= pivot.\n",
    "            i += 1\n",
    "            (the_list[i], the_list[j]) = (the_list[j], the_list[i])\n",
    "        j += 1\n",
    "            \n",
    "    # Get the pivot into the correct position.\n",
    "    (the_list[i+1], the_list[r]) = (the_list[r], the_list[i+1])\n",
    "    return i+1\n",
    "\n",
    "# Sort the sublist the_list[p ... r] using the quicksort algorithm.\n",
    "def quicksort(the_list, p, r, compare_func):\n",
    "    if p < r:   # nothing to do if the sublist has fewer than 2 items\n",
    "        q = partition(the_list, p, r, compare_func) # divide\n",
    "        quicksort(the_list, p, q-1, compare_func)   # conquer smaller items\n",
    "        quicksort(the_list, q+1, r, compare_func)   # conquer larger items\n",
    "\n",
    "# Sort the_list by running quicksort on it.        \n",
    "def sort(the_list, compare_func):\n",
    "    quicksort(the_list, 0, len(the_list)-1, compare_func)\n",
    "\n",
    "# Return True if city1 has the same or higher population than city2.\n",
    "def compare_population(city1, city2):\n",
    "    return city1.get_population() >= city2.get_population()\n",
    "\n",
    "# Return True if city1 comes at or before city2 alphabetically.\n",
    "def compare_name(city1, city2):\n",
    "    return city1.get_name().lower() <= city2.get_name().lower()\n",
    "\n",
    "# Return True if city1's latitude is less than or equal to city2's latitude.\n",
    "def compare_latitude(city1, city2):\n",
    "    return city1.get_latitude() <= city2.get_latitude()\n"
   ]
  },
  {
   "cell_type": "code",
   "execution_count": 45,
   "metadata": {},
   "outputs": [
    {
     "ename": "RecursionError",
     "evalue": "maximum recursion depth exceeded",
     "output_type": "error",
     "traceback": [
      "\u001b[0;31m---------------------------------------------------------------------------\u001b[0m",
      "\u001b[0;31mRecursionError\u001b[0m                            Traceback (most recent call last)",
      "Cell \u001b[0;32mIn[45], line 1\u001b[0m\n\u001b[0;32m----> 1\u001b[0m \u001b[43msort\u001b[49m\u001b[43m(\u001b[49m\u001b[43mcities_list\u001b[49m\u001b[43m,\u001b[49m\u001b[43m \u001b[49m\u001b[43mcompare_name\u001b[49m\u001b[43m)\u001b[49m\n\u001b[1;32m      2\u001b[0m out_file \u001b[38;5;241m=\u001b[39m \u001b[38;5;28mopen\u001b[39m(\u001b[38;5;124m'\u001b[39m\u001b[38;5;124mcities_alpha.txt\u001b[39m\u001b[38;5;124m'\u001b[39m, \u001b[38;5;124m'\u001b[39m\u001b[38;5;124mw\u001b[39m\u001b[38;5;124m'\u001b[39m)\n\u001b[1;32m      3\u001b[0m \u001b[38;5;28;01mfor\u001b[39;00m city \u001b[38;5;129;01min\u001b[39;00m cities_list:\n",
      "Cell \u001b[0;32mIn[42], line 37\u001b[0m, in \u001b[0;36msort\u001b[0;34m(the_list, compare_func)\u001b[0m\n\u001b[1;32m     36\u001b[0m \u001b[38;5;28;01mdef\u001b[39;00m \u001b[38;5;21msort\u001b[39m(the_list, compare_func):\n\u001b[0;32m---> 37\u001b[0m     \u001b[43mquicksort\u001b[49m\u001b[43m(\u001b[49m\u001b[43mthe_list\u001b[49m\u001b[43m,\u001b[49m\u001b[43m \u001b[49m\u001b[38;5;241;43m0\u001b[39;49m\u001b[43m,\u001b[49m\u001b[43m \u001b[49m\u001b[38;5;28;43mlen\u001b[39;49m\u001b[43m(\u001b[49m\u001b[43mthe_list\u001b[49m\u001b[43m)\u001b[49m\u001b[38;5;241;43m-\u001b[39;49m\u001b[38;5;241;43m1\u001b[39;49m\u001b[43m,\u001b[49m\u001b[43m \u001b[49m\u001b[43mcompare_func\u001b[49m\u001b[43m)\u001b[49m\n",
      "Cell \u001b[0;32mIn[42], line 32\u001b[0m, in \u001b[0;36mquicksort\u001b[0;34m(the_list, p, r, compare_func)\u001b[0m\n\u001b[1;32m     30\u001b[0m \u001b[38;5;28;01mif\u001b[39;00m p \u001b[38;5;241m<\u001b[39m r:   \u001b[38;5;66;03m# nothing to do if the sublist has fewer than 2 items\u001b[39;00m\n\u001b[1;32m     31\u001b[0m     q \u001b[38;5;241m=\u001b[39m partition(the_list, p, r, compare_func) \u001b[38;5;66;03m# divide\u001b[39;00m\n\u001b[0;32m---> 32\u001b[0m     \u001b[43mquicksort\u001b[49m\u001b[43m(\u001b[49m\u001b[43mthe_list\u001b[49m\u001b[43m,\u001b[49m\u001b[43m \u001b[49m\u001b[43mp\u001b[49m\u001b[43m,\u001b[49m\u001b[43m \u001b[49m\u001b[43mq\u001b[49m\u001b[38;5;241;43m-\u001b[39;49m\u001b[38;5;241;43m1\u001b[39;49m\u001b[43m,\u001b[49m\u001b[43m \u001b[49m\u001b[43mcompare_func\u001b[49m\u001b[43m)\u001b[49m   \u001b[38;5;66;03m# conquer smaller items\u001b[39;00m\n\u001b[1;32m     33\u001b[0m     quicksort(the_list, q\u001b[38;5;241m+\u001b[39m\u001b[38;5;241m1\u001b[39m, r, compare_func)\n",
      "Cell \u001b[0;32mIn[42], line 32\u001b[0m, in \u001b[0;36mquicksort\u001b[0;34m(the_list, p, r, compare_func)\u001b[0m\n\u001b[1;32m     30\u001b[0m \u001b[38;5;28;01mif\u001b[39;00m p \u001b[38;5;241m<\u001b[39m r:   \u001b[38;5;66;03m# nothing to do if the sublist has fewer than 2 items\u001b[39;00m\n\u001b[1;32m     31\u001b[0m     q \u001b[38;5;241m=\u001b[39m partition(the_list, p, r, compare_func) \u001b[38;5;66;03m# divide\u001b[39;00m\n\u001b[0;32m---> 32\u001b[0m     \u001b[43mquicksort\u001b[49m\u001b[43m(\u001b[49m\u001b[43mthe_list\u001b[49m\u001b[43m,\u001b[49m\u001b[43m \u001b[49m\u001b[43mp\u001b[49m\u001b[43m,\u001b[49m\u001b[43m \u001b[49m\u001b[43mq\u001b[49m\u001b[38;5;241;43m-\u001b[39;49m\u001b[38;5;241;43m1\u001b[39;49m\u001b[43m,\u001b[49m\u001b[43m \u001b[49m\u001b[43mcompare_func\u001b[49m\u001b[43m)\u001b[49m   \u001b[38;5;66;03m# conquer smaller items\u001b[39;00m\n\u001b[1;32m     33\u001b[0m     quicksort(the_list, q\u001b[38;5;241m+\u001b[39m\u001b[38;5;241m1\u001b[39m, r, compare_func)\n",
      "    \u001b[0;31m[... skipping similar frames: quicksort at line 32 (2965 times)]\u001b[0m\n",
      "Cell \u001b[0;32mIn[42], line 32\u001b[0m, in \u001b[0;36mquicksort\u001b[0;34m(the_list, p, r, compare_func)\u001b[0m\n\u001b[1;32m     30\u001b[0m \u001b[38;5;28;01mif\u001b[39;00m p \u001b[38;5;241m<\u001b[39m r:   \u001b[38;5;66;03m# nothing to do if the sublist has fewer than 2 items\u001b[39;00m\n\u001b[1;32m     31\u001b[0m     q \u001b[38;5;241m=\u001b[39m partition(the_list, p, r, compare_func) \u001b[38;5;66;03m# divide\u001b[39;00m\n\u001b[0;32m---> 32\u001b[0m     \u001b[43mquicksort\u001b[49m\u001b[43m(\u001b[49m\u001b[43mthe_list\u001b[49m\u001b[43m,\u001b[49m\u001b[43m \u001b[49m\u001b[43mp\u001b[49m\u001b[43m,\u001b[49m\u001b[43m \u001b[49m\u001b[43mq\u001b[49m\u001b[38;5;241;43m-\u001b[39;49m\u001b[38;5;241;43m1\u001b[39;49m\u001b[43m,\u001b[49m\u001b[43m \u001b[49m\u001b[43mcompare_func\u001b[49m\u001b[43m)\u001b[49m   \u001b[38;5;66;03m# conquer smaller items\u001b[39;00m\n\u001b[1;32m     33\u001b[0m     quicksort(the_list, q\u001b[38;5;241m+\u001b[39m\u001b[38;5;241m1\u001b[39m, r, compare_func)\n",
      "Cell \u001b[0;32mIn[42], line 31\u001b[0m, in \u001b[0;36mquicksort\u001b[0;34m(the_list, p, r, compare_func)\u001b[0m\n\u001b[1;32m     29\u001b[0m \u001b[38;5;28;01mdef\u001b[39;00m \u001b[38;5;21mquicksort\u001b[39m(the_list, p, r, compare_func):\n\u001b[1;32m     30\u001b[0m     \u001b[38;5;28;01mif\u001b[39;00m p \u001b[38;5;241m<\u001b[39m r:   \u001b[38;5;66;03m# nothing to do if the sublist has fewer than 2 items\u001b[39;00m\n\u001b[0;32m---> 31\u001b[0m         q \u001b[38;5;241m=\u001b[39m \u001b[43mpartition\u001b[49m\u001b[43m(\u001b[49m\u001b[43mthe_list\u001b[49m\u001b[43m,\u001b[49m\u001b[43m \u001b[49m\u001b[43mp\u001b[49m\u001b[43m,\u001b[49m\u001b[43m \u001b[49m\u001b[43mr\u001b[49m\u001b[43m,\u001b[49m\u001b[43m \u001b[49m\u001b[43mcompare_func\u001b[49m\u001b[43m)\u001b[49m \u001b[38;5;66;03m# divide\u001b[39;00m\n\u001b[1;32m     32\u001b[0m         quicksort(the_list, p, q\u001b[38;5;241m-\u001b[39m\u001b[38;5;241m1\u001b[39m, compare_func)   \u001b[38;5;66;03m# conquer smaller items\u001b[39;00m\n\u001b[1;32m     33\u001b[0m         quicksort(the_list, q\u001b[38;5;241m+\u001b[39m\u001b[38;5;241m1\u001b[39m, r, compare_func)\n",
      "Cell \u001b[0;32mIn[42], line 18\u001b[0m, in \u001b[0;36mpartition\u001b[0;34m(the_list, p, r, compare_func)\u001b[0m\n\u001b[1;32m     16\u001b[0m j \u001b[38;5;241m=\u001b[39m p\n\u001b[1;32m     17\u001b[0m \u001b[38;5;28;01mwhile\u001b[39;00m j \u001b[38;5;241m<\u001b[39m r:\n\u001b[0;32m---> 18\u001b[0m     \u001b[38;5;28;01mif\u001b[39;00m \u001b[43mcompare_func\u001b[49m\u001b[43m(\u001b[49m\u001b[43mthe_list\u001b[49m\u001b[43m[\u001b[49m\u001b[43mj\u001b[49m\u001b[43m]\u001b[49m\u001b[43m,\u001b[49m\u001b[43m \u001b[49m\u001b[43mpivot\u001b[49m\u001b[43m)\u001b[49m:\n\u001b[1;32m     19\u001b[0m         \u001b[38;5;66;03m# Move this item into the section known to be <= pivot.\u001b[39;00m\n\u001b[1;32m     20\u001b[0m         i \u001b[38;5;241m+\u001b[39m\u001b[38;5;241m=\u001b[39m \u001b[38;5;241m1\u001b[39m\n\u001b[1;32m     21\u001b[0m         (the_list[i], the_list[j]) \u001b[38;5;241m=\u001b[39m (the_list[j], the_list[i])\n",
      "Cell \u001b[0;32mIn[42], line 45\u001b[0m, in \u001b[0;36mcompare_name\u001b[0;34m(city1, city2)\u001b[0m\n\u001b[1;32m     44\u001b[0m \u001b[38;5;28;01mdef\u001b[39;00m \u001b[38;5;21mcompare_name\u001b[39m(city1, city2):\n\u001b[0;32m---> 45\u001b[0m     \u001b[38;5;28;01mreturn\u001b[39;00m \u001b[43mcity1\u001b[49m\u001b[38;5;241;43m.\u001b[39;49m\u001b[43mget_name\u001b[49m\u001b[43m(\u001b[49m\u001b[43m)\u001b[49m\u001b[38;5;241m.\u001b[39mlower() \u001b[38;5;241m<\u001b[39m\u001b[38;5;241m=\u001b[39m city2\u001b[38;5;241m.\u001b[39mget_name()\u001b[38;5;241m.\u001b[39mlower()\n",
      "\u001b[0;31mRecursionError\u001b[0m: maximum recursion depth exceeded"
     ]
    }
   ],
   "source": [
    "sort(cities_list, compare_name)\n",
    "out_file = open('cities_alpha.txt', 'w')\n",
    "for city in cities_list:\n",
    "    out_file.write(cities_list[city])\n",
    "out_file.close()\n",
    "\n",
    "\n",
    "'''\n",
    "\n",
    "sort(cities_list, compare_population)\n",
    "out_file = open('cities_population.txt', 'w')\n",
    "for city in cities_list:\n",
    "    out_file.write(cities_list[city])\n",
    "out_file.close()\n",
    "\n",
    "sort(cities_list, compare_latitude)\n",
    "out_file = open('cities_latitude.txt', 'w')\n",
    "for city in cities_list:\n",
    "    out_file.write(cities_list[city])\n",
    "out_file.close()\n",
    "\n",
    "'''\n"
   ]
  }
 ],
 "metadata": {
  "kernelspec": {
   "display_name": "Python 3",
   "language": "python",
   "name": "python3"
  },
  "language_info": {
   "codemirror_mode": {
    "name": "ipython",
    "version": 3
   },
   "file_extension": ".py",
   "mimetype": "text/x-python",
   "name": "python",
   "nbconvert_exporter": "python",
   "pygments_lexer": "ipython3",
   "version": "3.10.7"
  }
 },
 "nbformat": 4,
 "nbformat_minor": 2
}
